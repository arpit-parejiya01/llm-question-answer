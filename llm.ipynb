{
 "cells": [
  {
   "cell_type": "code",
   "execution_count": null,
   "metadata": {},
   "outputs": [],
   "source": [
    "from langchain_core.prompts import ChatPromptTemplate\n",
    "from langchain_google_genai import ChatGoogleGenerativeAI\n",
    "from langchain_core.output_parsers import StrOutputParser\n",
    "from dotenv import load_dotenv\n",
    "import os"
   ]
  },
  {
   "cell_type": "code",
   "execution_count": 8,
   "metadata": {},
   "outputs": [],
   "source": [
    "load_dotenv()\n",
    "os.environ[\"GOOGLE_API_KEY\"]=os.getenv(\"GOOGLE_API_KEY\")\n",
    "llm=ChatGoogleGenerativeAI(model=\"gemini-1.5-flash\")"
   ]
  },
  {
   "cell_type": "code",
   "execution_count": 9,
   "metadata": {},
   "outputs": [],
   "source": [
    "system_prompt = \"\"\"\n",
    "you are expert in giving response of users questions\n",
    "Give Text string response\n",
    "here is users question:{question}\n",
    "\"\"\""
   ]
  },
  {
   "cell_type": "code",
   "execution_count": 10,
   "metadata": {},
   "outputs": [],
   "source": [
    "prompt = ChatPromptTemplate.from_messages(\n",
    "  [\n",
    "    (\"system\",system_prompt),\n",
    "    (\"user\",\"{question}\")\n",
    "  ]\n",
    ")"
   ]
  },
  {
   "cell_type": "code",
   "execution_count": 11,
   "metadata": {},
   "outputs": [],
   "source": [
    "chain=prompt | llm | StrOutputParser()"
   ]
  },
  {
   "cell_type": "code",
   "execution_count": 12,
   "metadata": {},
   "outputs": [
    {
     "data": {
      "text/plain": [
       "\"Hi! Docker is a platform designed to make it easier to create, deploy, and run applications using containers.  Think of it like this:  you have an application (like a website or a database), and all the things it needs to run (like libraries, dependencies, and settings).  Instead of installing all that directly onto your server, you package it all up into a self-contained unit called a *container*.  Docker then manages these containers, making it easy to move them between different environments (like from your laptop to a cloud server) without worrying about compatibility issues.\\n\\nHere's a breakdown of key aspects:\\n\\n* **Containers:** These are lightweight, standalone, executable packages of software that include everything needed to run an application: code, runtime, system tools, system libraries and settings.  They're isolated from each other and the host operating system, ensuring consistency and preventing conflicts.\\n\\n* **Docker Images:** These are read-only templates with instructions for creating a Docker container.  Think of them as blueprints.  You build an image, then run it to create a container.\\n\\n* **Docker Hub:** This is a public registry where you can find and share Docker images.  It's like a giant library of pre-built applications and tools.\\n\\n* **Benefits of using Docker:**\\n\\n    * **Consistency:** Run your application the same way everywhere, regardless of the underlying infrastructure.\\n    * **Portability:** Easily move your application between different environments (development, testing, production).\\n    * **Scalability:** Quickly create and deploy multiple instances of your application.\\n    * **Isolation:** Containers are isolated from each other and the host OS, preventing conflicts and improving security.\\n    * **Efficiency:** Containers share the host OS kernel, making them more lightweight than virtual machines.\\n    * **Version Control:** You can track changes to your application and its dependencies using Docker images.\\n\\n\\nIn short, Docker simplifies the process of building, shipping, and running applications by providing a consistent and efficient containerization platform.  It's become a crucial tool for developers and DevOps engineers.\\n\""
      ]
     },
     "execution_count": 12,
     "metadata": {},
     "output_type": "execute_result"
    }
   ],
   "source": [
    "chain.invoke({\"question\":\"hi what is docker\"})"
   ]
  }
 ],
 "metadata": {
  "kernelspec": {
   "display_name": ".venv",
   "language": "python",
   "name": "python3"
  },
  "language_info": {
   "codemirror_mode": {
    "name": "ipython",
    "version": 3
   },
   "file_extension": ".py",
   "mimetype": "text/x-python",
   "name": "python",
   "nbconvert_exporter": "python",
   "pygments_lexer": "ipython3",
   "version": "3.10.12"
  }
 },
 "nbformat": 4,
 "nbformat_minor": 2
}
